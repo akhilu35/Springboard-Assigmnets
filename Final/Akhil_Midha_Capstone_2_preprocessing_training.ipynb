{
 "cells": [
  {
   "cell_type": "code",
   "execution_count": 2,
   "id": "fa55892d",
   "metadata": {},
   "outputs": [],
   "source": [
    "import pandas as pd\n",
    "import matplotlib.pyplot as plt\n",
    "import seaborn as sns\n",
    "import os\n",
    "import datetime as dt\n",
    "import sklearn"
   ]
  },
  {
   "cell_type": "code",
   "execution_count": 3,
   "id": "d4b3279e",
   "metadata": {},
   "outputs": [],
   "source": [
    "df_CO2 = pd.read_csv('../Data.csv')"
   ]
  },
  {
   "cell_type": "code",
   "execution_count": 4,
   "id": "a2983766",
   "metadata": {
    "scrolled": true
   },
   "outputs": [
    {
     "data": {
      "text/plain": [
       "Unnamed: 0              int64\n",
       "Country                object\n",
       "ISO 3166-1 alpha-3     object\n",
       "Year                   object\n",
       "Total                 float64\n",
       "Coal                  float64\n",
       "Oil                   float64\n",
       "Gas                   float64\n",
       "Cement                float64\n",
       "Flaring               float64\n",
       "Other                 float64\n",
       "Per Capita            float64\n",
       "ISO-alpha3 Code        object\n",
       "Region 1               object\n",
       "Continent              object\n",
       "dtype: object"
      ]
     },
     "execution_count": 4,
     "metadata": {},
     "output_type": "execute_result"
    }
   ],
   "source": [
    "df_CO2.dtypes"
   ]
  },
  {
   "cell_type": "code",
   "execution_count": 5,
   "id": "26b0e8ab",
   "metadata": {},
   "outputs": [],
   "source": [
    "df_CO2['Year']=df_CO2['Year'].astype(str)\n",
    "df_CO2['Year']=[x[:4] for x in df_CO2['Year']]\n",
    "df_CO2['Year']=pd.to_datetime(df_CO2['Year'],format='%Y')"
   ]
  },
  {
   "cell_type": "code",
   "execution_count": 6,
   "id": "417d4521",
   "metadata": {},
   "outputs": [],
   "source": [
    "df_CO2=df_CO2.dropna(thresh=7) #delete rows with 7 NaN (no observable data)"
   ]
  },
  {
   "cell_type": "code",
   "execution_count": 7,
   "id": "a8e63215",
   "metadata": {},
   "outputs": [
    {
     "data": {
      "text/plain": [
       "Unnamed: 0                0\n",
       "Country                   0\n",
       "ISO 3166-1 alpha-3        0\n",
       "Year                      0\n",
       "Total                     0\n",
       "Coal                      0\n",
       "Oil                     105\n",
       "Gas                     132\n",
       "Cement                 4143\n",
       "Flaring                 200\n",
       "Other                 19921\n",
       "Per Capita             4358\n",
       "ISO-alpha3 Code         442\n",
       "Region 1                  0\n",
       "Continent                 0\n",
       "dtype: int64"
      ]
     },
     "execution_count": 7,
     "metadata": {},
     "output_type": "execute_result"
    }
   ],
   "source": [
    "df_CO2.isna().sum()"
   ]
  },
  {
   "cell_type": "code",
   "execution_count": 8,
   "id": "f9a5f156",
   "metadata": {},
   "outputs": [],
   "source": [
    "drop_columns=['ISO 3166-1 alpha-3','Cement','Other','ISO-alpha3 Code']\n",
    "df_CO2 = df_CO2.drop(drop_columns, axis=1)"
   ]
  },
  {
   "cell_type": "code",
   "execution_count": 9,
   "id": "6b403917",
   "metadata": {},
   "outputs": [],
   "source": [
    "df_CO2 = df_CO2.dropna(subset=['Per Capita'])"
   ]
  },
  {
   "cell_type": "code",
   "execution_count": 10,
   "id": "a1f371d1",
   "metadata": {},
   "outputs": [],
   "source": [
    "values = {'Oil':0,'Gas':0,'Flaring':0}\n",
    "df_CO2=df_CO2.fillna(value=values)"
   ]
  },
  {
   "cell_type": "code",
   "execution_count": 11,
   "id": "45fb0b11",
   "metadata": {},
   "outputs": [
    {
     "data": {
      "text/plain": [
       "Unnamed: 0    0\n",
       "Country       0\n",
       "Year          0\n",
       "Total         0\n",
       "Coal          0\n",
       "Oil           0\n",
       "Gas           0\n",
       "Flaring       0\n",
       "Per Capita    0\n",
       "Region 1      0\n",
       "Continent     0\n",
       "dtype: int64"
      ]
     },
     "execution_count": 11,
     "metadata": {},
     "output_type": "execute_result"
    }
   ],
   "source": [
    "df_CO2.isna().sum()"
   ]
  },
  {
   "cell_type": "code",
   "execution_count": 12,
   "id": "9376801b",
   "metadata": {},
   "outputs": [
    {
     "data": {
      "text/plain": [
       "Unnamed: 0             int64\n",
       "Country               object\n",
       "Year          datetime64[ns]\n",
       "Total                float64\n",
       "Coal                 float64\n",
       "Oil                  float64\n",
       "Gas                  float64\n",
       "Flaring              float64\n",
       "Per Capita           float64\n",
       "Region 1              object\n",
       "Continent             object\n",
       "dtype: object"
      ]
     },
     "execution_count": 12,
     "metadata": {},
     "output_type": "execute_result"
    }
   ],
   "source": [
    "df_CO2.dtypes"
   ]
  },
  {
   "cell_type": "code",
   "execution_count": 13,
   "id": "34407005",
   "metadata": {},
   "outputs": [],
   "source": [
    "df_CO2 = df_CO2.drop(['Unnamed: 0','Region 1'], axis=1)"
   ]
  },
  {
   "cell_type": "code",
   "execution_count": 14,
   "id": "90c5ae13",
   "metadata": {},
   "outputs": [
    {
     "data": {
      "text/plain": [
       "Country               object\n",
       "Year          datetime64[ns]\n",
       "Total                float64\n",
       "Coal                 float64\n",
       "Oil                  float64\n",
       "Gas                  float64\n",
       "Flaring              float64\n",
       "Per Capita           float64\n",
       "Continent             object\n",
       "dtype: object"
      ]
     },
     "execution_count": 14,
     "metadata": {},
     "output_type": "execute_result"
    }
   ],
   "source": [
    "df_CO2.dtypes"
   ]
  },
  {
   "cell_type": "code",
   "execution_count": 15,
   "id": "d99fd15e",
   "metadata": {},
   "outputs": [
    {
     "data": {
      "text/html": [
       "<div>\n",
       "<style scoped>\n",
       "    .dataframe tbody tr th:only-of-type {\n",
       "        vertical-align: middle;\n",
       "    }\n",
       "\n",
       "    .dataframe tbody tr th {\n",
       "        vertical-align: top;\n",
       "    }\n",
       "\n",
       "    .dataframe thead th {\n",
       "        text-align: right;\n",
       "    }\n",
       "</style>\n",
       "<table border=\"1\" class=\"dataframe\">\n",
       "  <thead>\n",
       "    <tr style=\"text-align: right;\">\n",
       "      <th></th>\n",
       "      <th>Antarctica</th>\n",
       "      <th>Asia</th>\n",
       "      <th>Europe</th>\n",
       "      <th>North America</th>\n",
       "      <th>Oceania</th>\n",
       "      <th>South America</th>\n",
       "      <th>World</th>\n",
       "    </tr>\n",
       "  </thead>\n",
       "  <tbody>\n",
       "    <tr>\n",
       "      <th>1</th>\n",
       "      <td>0</td>\n",
       "      <td>1</td>\n",
       "      <td>0</td>\n",
       "      <td>0</td>\n",
       "      <td>0</td>\n",
       "      <td>0</td>\n",
       "      <td>0</td>\n",
       "    </tr>\n",
       "    <tr>\n",
       "      <th>2</th>\n",
       "      <td>0</td>\n",
       "      <td>1</td>\n",
       "      <td>0</td>\n",
       "      <td>0</td>\n",
       "      <td>0</td>\n",
       "      <td>0</td>\n",
       "      <td>0</td>\n",
       "    </tr>\n",
       "    <tr>\n",
       "      <th>3</th>\n",
       "      <td>0</td>\n",
       "      <td>1</td>\n",
       "      <td>0</td>\n",
       "      <td>0</td>\n",
       "      <td>0</td>\n",
       "      <td>0</td>\n",
       "      <td>0</td>\n",
       "    </tr>\n",
       "    <tr>\n",
       "      <th>4</th>\n",
       "      <td>0</td>\n",
       "      <td>1</td>\n",
       "      <td>0</td>\n",
       "      <td>0</td>\n",
       "      <td>0</td>\n",
       "      <td>0</td>\n",
       "      <td>0</td>\n",
       "    </tr>\n",
       "    <tr>\n",
       "      <th>5</th>\n",
       "      <td>0</td>\n",
       "      <td>1</td>\n",
       "      <td>0</td>\n",
       "      <td>0</td>\n",
       "      <td>0</td>\n",
       "      <td>0</td>\n",
       "      <td>0</td>\n",
       "    </tr>\n",
       "  </tbody>\n",
       "</table>\n",
       "</div>"
      ],
      "text/plain": [
       "   Antarctica  Asia  Europe  North America  Oceania  South America  World\n",
       "1           0     1       0              0        0              0      0\n",
       "2           0     1       0              0        0              0      0\n",
       "3           0     1       0              0        0              0      0\n",
       "4           0     1       0              0        0              0      0\n",
       "5           0     1       0              0        0              0      0"
      ]
     },
     "execution_count": 15,
     "metadata": {},
     "output_type": "execute_result"
    }
   ],
   "source": [
    "cont = pd.get_dummies(df_CO2['Continent'], drop_first=True, dtype=int)\n",
    "cont.head()"
   ]
  },
  {
   "cell_type": "code",
   "execution_count": 16,
   "id": "007fedb6",
   "metadata": {},
   "outputs": [],
   "source": [
    "df_CO2 = pd.concat([df_CO2,cont],axis=1)"
   ]
  },
  {
   "cell_type": "code",
   "execution_count": 17,
   "id": "1a4faf24",
   "metadata": {},
   "outputs": [],
   "source": [
    "df_CO2 = df_CO2.drop(['Continent'],axis=1)"
   ]
  },
  {
   "cell_type": "code",
   "execution_count": 18,
   "id": "30a90208-ffd5-4e2a-a2f6-259927d07b3c",
   "metadata": {},
   "outputs": [
    {
     "data": {
      "text/html": [
       "<div>\n",
       "<style scoped>\n",
       "    .dataframe tbody tr th:only-of-type {\n",
       "        vertical-align: middle;\n",
       "    }\n",
       "\n",
       "    .dataframe tbody tr th {\n",
       "        vertical-align: top;\n",
       "    }\n",
       "\n",
       "    .dataframe thead th {\n",
       "        text-align: right;\n",
       "    }\n",
       "</style>\n",
       "<table border=\"1\" class=\"dataframe\">\n",
       "  <thead>\n",
       "    <tr style=\"text-align: right;\">\n",
       "      <th></th>\n",
       "      <th>Year</th>\n",
       "      <th>Total</th>\n",
       "      <th>Coal</th>\n",
       "      <th>Oil</th>\n",
       "      <th>Gas</th>\n",
       "      <th>Flaring</th>\n",
       "      <th>Per Capita</th>\n",
       "      <th>Antarctica</th>\n",
       "      <th>Asia</th>\n",
       "      <th>Europe</th>\n",
       "      <th>North America</th>\n",
       "      <th>Oceania</th>\n",
       "      <th>South America</th>\n",
       "      <th>World</th>\n",
       "    </tr>\n",
       "  </thead>\n",
       "  <tbody>\n",
       "    <tr>\n",
       "      <th>1</th>\n",
       "      <td>1950-01-01</td>\n",
       "      <td>0.084272</td>\n",
       "      <td>0.021068</td>\n",
       "      <td>0.063204</td>\n",
       "      <td>0.0</td>\n",
       "      <td>0.0</td>\n",
       "      <td>0.011266</td>\n",
       "      <td>0</td>\n",
       "      <td>1</td>\n",
       "      <td>0</td>\n",
       "      <td>0</td>\n",
       "      <td>0</td>\n",
       "      <td>0</td>\n",
       "      <td>0</td>\n",
       "    </tr>\n",
       "    <tr>\n",
       "      <th>2</th>\n",
       "      <td>1951-01-01</td>\n",
       "      <td>0.091600</td>\n",
       "      <td>0.025648</td>\n",
       "      <td>0.065952</td>\n",
       "      <td>0.0</td>\n",
       "      <td>0.0</td>\n",
       "      <td>0.012098</td>\n",
       "      <td>0</td>\n",
       "      <td>1</td>\n",
       "      <td>0</td>\n",
       "      <td>0</td>\n",
       "      <td>0</td>\n",
       "      <td>0</td>\n",
       "      <td>0</td>\n",
       "    </tr>\n",
       "    <tr>\n",
       "      <th>3</th>\n",
       "      <td>1952-01-01</td>\n",
       "      <td>0.091600</td>\n",
       "      <td>0.031708</td>\n",
       "      <td>0.059892</td>\n",
       "      <td>0.0</td>\n",
       "      <td>0.0</td>\n",
       "      <td>0.011946</td>\n",
       "      <td>0</td>\n",
       "      <td>1</td>\n",
       "      <td>0</td>\n",
       "      <td>0</td>\n",
       "      <td>0</td>\n",
       "      <td>0</td>\n",
       "      <td>0</td>\n",
       "    </tr>\n",
       "    <tr>\n",
       "      <th>4</th>\n",
       "      <td>1953-01-01</td>\n",
       "      <td>0.106256</td>\n",
       "      <td>0.037949</td>\n",
       "      <td>0.068307</td>\n",
       "      <td>0.0</td>\n",
       "      <td>0.0</td>\n",
       "      <td>0.013685</td>\n",
       "      <td>0</td>\n",
       "      <td>1</td>\n",
       "      <td>0</td>\n",
       "      <td>0</td>\n",
       "      <td>0</td>\n",
       "      <td>0</td>\n",
       "      <td>0</td>\n",
       "    </tr>\n",
       "    <tr>\n",
       "      <th>5</th>\n",
       "      <td>1954-01-01</td>\n",
       "      <td>0.106256</td>\n",
       "      <td>0.042502</td>\n",
       "      <td>0.063754</td>\n",
       "      <td>0.0</td>\n",
       "      <td>0.0</td>\n",
       "      <td>0.013511</td>\n",
       "      <td>0</td>\n",
       "      <td>1</td>\n",
       "      <td>0</td>\n",
       "      <td>0</td>\n",
       "      <td>0</td>\n",
       "      <td>0</td>\n",
       "      <td>0</td>\n",
       "    </tr>\n",
       "  </tbody>\n",
       "</table>\n",
       "</div>"
      ],
      "text/plain": [
       "        Year     Total      Coal       Oil  Gas  Flaring  Per Capita  \\\n",
       "1 1950-01-01  0.084272  0.021068  0.063204  0.0      0.0    0.011266   \n",
       "2 1951-01-01  0.091600  0.025648  0.065952  0.0      0.0    0.012098   \n",
       "3 1952-01-01  0.091600  0.031708  0.059892  0.0      0.0    0.011946   \n",
       "4 1953-01-01  0.106256  0.037949  0.068307  0.0      0.0    0.013685   \n",
       "5 1954-01-01  0.106256  0.042502  0.063754  0.0      0.0    0.013511   \n",
       "\n",
       "   Antarctica  Asia  Europe  North America  Oceania  South America  World  \n",
       "1           0     1       0              0        0              0      0  \n",
       "2           0     1       0              0        0              0      0  \n",
       "3           0     1       0              0        0              0      0  \n",
       "4           0     1       0              0        0              0      0  \n",
       "5           0     1       0              0        0              0      0  "
      ]
     },
     "execution_count": 18,
     "metadata": {},
     "output_type": "execute_result"
    }
   ],
   "source": [
    "df_CO2 = df_CO2.drop(['Country'],axis=1)\n",
    "df_CO2.head()"
   ]
  },
  {
   "cell_type": "code",
   "execution_count": 19,
   "id": "9f51d751-fdeb-44e4-91ef-2519c73ad6e5",
   "metadata": {},
   "outputs": [],
   "source": [
    "df_World=df_CO2[df_CO2['World']==1]"
   ]
  },
  {
   "cell_type": "code",
   "execution_count": 24,
   "id": "ad7936db-803b-4366-bf95-d4d65697c8ab",
   "metadata": {},
   "outputs": [],
   "source": [
    "df_CO2 = df_CO2[df_CO2['World']==0]"
   ]
  },
  {
   "cell_type": "code",
   "execution_count": 27,
   "id": "787e2675-dfde-4a65-9098-ec786afb0349",
   "metadata": {},
   "outputs": [],
   "source": [
    "df_CO2=df_CO2.drop('World',axis=1)"
   ]
  },
  {
   "cell_type": "code",
   "execution_count": 28,
   "id": "6fbe4531-a581-42e5-b576-31b3dd696acc",
   "metadata": {},
   "outputs": [],
   "source": [
    "datapath = '../Data'\n",
    "os.makedirs(datapath, exist_ok=True)\n",
    "df_CO2.to_csv('../Clean_Data.csv')"
   ]
  },
  {
   "cell_type": "code",
   "execution_count": 20,
   "id": "0c9eb4f5",
   "metadata": {},
   "outputs": [],
   "source": [
    "from sklearn.preprocessing import StandardScaler\n",
    "from sklearn.model_selection import train_test_split"
   ]
  },
  {
   "cell_type": "code",
   "execution_count": 21,
   "id": "cd1fb5ae",
   "metadata": {},
   "outputs": [],
   "source": [
    "df = df_CO2.drop(['Year'],axis=1)"
   ]
  },
  {
   "cell_type": "code",
   "execution_count": 22,
   "id": "46e38f12",
   "metadata": {},
   "outputs": [],
   "source": [
    "columns = df.columns"
   ]
  },
  {
   "cell_type": "code",
   "execution_count": 23,
   "id": "20eed98b",
   "metadata": {},
   "outputs": [],
   "source": [
    "scaler = StandardScaler()\n",
    "df_scaled = scaler.fit_transform(df)"
   ]
  },
  {
   "cell_type": "code",
   "execution_count": 24,
   "id": "35592e49",
   "metadata": {},
   "outputs": [],
   "source": [
    "df_scaled = pd.DataFrame(df_scaled, columns=columns)"
   ]
  },
  {
   "cell_type": "code",
   "execution_count": 25,
   "id": "4aa8811d-2806-464d-b01f-9bbdbc600af1",
   "metadata": {},
   "outputs": [],
   "source": [
    "datapath = '../Data'\n",
    "os.makedirs(datapath, exist_ok=True)\n",
    "df_scaled.to_csv('../Scaled_Data.csv')"
   ]
  },
  {
   "cell_type": "code",
   "execution_count": 70,
   "id": "733ae347",
   "metadata": {},
   "outputs": [],
   "source": [
    "X = df_scaled.drop(['Total'],axis=1)\n",
    "y = df_scaled['Total']"
   ]
  },
  {
   "cell_type": "code",
   "execution_count": 24,
   "id": "1f027cdf",
   "metadata": {},
   "outputs": [
    {
     "ename": "AttributeError",
     "evalue": "'DatetimeIndex' object has no attribute 'to_timestamp'",
     "output_type": "error",
     "traceback": [
      "\u001b[1;31m---------------------------------------------------------------------------\u001b[0m",
      "\u001b[1;31mAttributeError\u001b[0m                            Traceback (most recent call last)",
      "Cell \u001b[1;32mIn[24], line 3\u001b[0m\n\u001b[0;32m      1\u001b[0m df_World\u001b[38;5;241m.\u001b[39mset_index(\u001b[38;5;124m'\u001b[39m\u001b[38;5;124mYear\u001b[39m\u001b[38;5;124m'\u001b[39m, inplace\u001b[38;5;241m=\u001b[39m\u001b[38;5;28;01mTrue\u001b[39;00m)\n\u001b[0;32m      2\u001b[0m df_World\u001b[38;5;241m.\u001b[39msort_index(inplace\u001b[38;5;241m=\u001b[39m\u001b[38;5;28;01mTrue\u001b[39;00m)\n\u001b[1;32m----> 3\u001b[0m df_World\u001b[38;5;241m.\u001b[39mindex \u001b[38;5;241m=\u001b[39m df_World\u001b[38;5;241m.\u001b[39mindex\u001b[38;5;241m.\u001b[39mto_timestamp()\n",
      "\u001b[1;31mAttributeError\u001b[0m: 'DatetimeIndex' object has no attribute 'to_timestamp'"
     ]
    }
   ],
   "source": [
    "df_World.set_index('Year', inplace=True)\n",
    "df_World.sort_index(inplace=True)"
   ]
  },
  {
   "cell_type": "code",
   "execution_count": 25,
   "id": "33f813bc-c1a2-4354-8ee8-57b6996d154f",
   "metadata": {},
   "outputs": [],
   "source": [
    "df_World.index = pd.DatetimeIndex(df_World.index).to_period('Y')\n",
    "df_World.index = df_World.index.to_timestamp()"
   ]
  },
  {
   "cell_type": "code",
   "execution_count": 28,
   "id": "e29bb4bf-7921-43ab-8579-4c5d8aee7e96",
   "metadata": {},
   "outputs": [
    {
     "name": "stderr",
     "output_type": "stream",
     "text": [
      "C:\\Users\\akhil\\AppData\\Local\\Temp\\ipykernel_5468\\2690773689.py:2: SettingWithCopyWarning: \n",
      "A value is trying to be set on a copy of a slice from a DataFrame.\n",
      "Try using .loc[row_indexer,col_indexer] = value instead\n",
      "\n",
      "See the caveats in the documentation: https://pandas.pydata.org/pandas-docs/stable/user_guide/indexing.html#returning-a-view-versus-a-copy\n",
      "  df_World['Total_log'] = np.log(df_World.Total)\n"
     ]
    },
    {
     "data": {
      "text/html": [
       "<div>\n",
       "<style scoped>\n",
       "    .dataframe tbody tr th:only-of-type {\n",
       "        vertical-align: middle;\n",
       "    }\n",
       "\n",
       "    .dataframe tbody tr th {\n",
       "        vertical-align: top;\n",
       "    }\n",
       "\n",
       "    .dataframe thead th {\n",
       "        text-align: right;\n",
       "    }\n",
       "</style>\n",
       "<table border=\"1\" class=\"dataframe\">\n",
       "  <thead>\n",
       "    <tr style=\"text-align: right;\">\n",
       "      <th></th>\n",
       "      <th>Total</th>\n",
       "      <th>Coal</th>\n",
       "      <th>Oil</th>\n",
       "      <th>Gas</th>\n",
       "      <th>Flaring</th>\n",
       "      <th>Per Capita</th>\n",
       "      <th>Antarctica</th>\n",
       "      <th>Asia</th>\n",
       "      <th>Europe</th>\n",
       "      <th>North America</th>\n",
       "      <th>Oceania</th>\n",
       "      <th>South America</th>\n",
       "      <th>World</th>\n",
       "      <th>Total_log</th>\n",
       "    </tr>\n",
       "    <tr>\n",
       "      <th>Year</th>\n",
       "      <th></th>\n",
       "      <th></th>\n",
       "      <th></th>\n",
       "      <th></th>\n",
       "      <th></th>\n",
       "      <th></th>\n",
       "      <th></th>\n",
       "      <th></th>\n",
       "      <th></th>\n",
       "      <th></th>\n",
       "      <th></th>\n",
       "      <th></th>\n",
       "      <th></th>\n",
       "      <th></th>\n",
       "    </tr>\n",
       "  </thead>\n",
       "  <tbody>\n",
       "    <tr>\n",
       "      <th>1750-01-01</th>\n",
       "      <td>9.350528</td>\n",
       "      <td>9.350528</td>\n",
       "      <td>0.0</td>\n",
       "      <td>0.0</td>\n",
       "      <td>0.0</td>\n",
       "      <td>0.011492</td>\n",
       "      <td>0</td>\n",
       "      <td>0</td>\n",
       "      <td>0</td>\n",
       "      <td>0</td>\n",
       "      <td>0</td>\n",
       "      <td>0</td>\n",
       "      <td>1</td>\n",
       "      <td>2.235433</td>\n",
       "    </tr>\n",
       "    <tr>\n",
       "      <th>1751-01-01</th>\n",
       "      <td>9.350528</td>\n",
       "      <td>9.350528</td>\n",
       "      <td>0.0</td>\n",
       "      <td>0.0</td>\n",
       "      <td>0.0</td>\n",
       "      <td>0.011438</td>\n",
       "      <td>0</td>\n",
       "      <td>0</td>\n",
       "      <td>0</td>\n",
       "      <td>0</td>\n",
       "      <td>0</td>\n",
       "      <td>0</td>\n",
       "      <td>1</td>\n",
       "      <td>2.235433</td>\n",
       "    </tr>\n",
       "    <tr>\n",
       "      <th>1752-01-01</th>\n",
       "      <td>9.354192</td>\n",
       "      <td>9.354192</td>\n",
       "      <td>0.0</td>\n",
       "      <td>0.0</td>\n",
       "      <td>0.0</td>\n",
       "      <td>0.011390</td>\n",
       "      <td>0</td>\n",
       "      <td>0</td>\n",
       "      <td>0</td>\n",
       "      <td>0</td>\n",
       "      <td>0</td>\n",
       "      <td>0</td>\n",
       "      <td>1</td>\n",
       "      <td>2.235825</td>\n",
       "    </tr>\n",
       "    <tr>\n",
       "      <th>1753-01-01</th>\n",
       "      <td>9.354192</td>\n",
       "      <td>9.354192</td>\n",
       "      <td>0.0</td>\n",
       "      <td>0.0</td>\n",
       "      <td>0.0</td>\n",
       "      <td>0.011339</td>\n",
       "      <td>0</td>\n",
       "      <td>0</td>\n",
       "      <td>0</td>\n",
       "      <td>0</td>\n",
       "      <td>0</td>\n",
       "      <td>0</td>\n",
       "      <td>1</td>\n",
       "      <td>2.235825</td>\n",
       "    </tr>\n",
       "    <tr>\n",
       "      <th>1754-01-01</th>\n",
       "      <td>9.357856</td>\n",
       "      <td>9.357856</td>\n",
       "      <td>0.0</td>\n",
       "      <td>0.0</td>\n",
       "      <td>0.0</td>\n",
       "      <td>0.011294</td>\n",
       "      <td>0</td>\n",
       "      <td>0</td>\n",
       "      <td>0</td>\n",
       "      <td>0</td>\n",
       "      <td>0</td>\n",
       "      <td>0</td>\n",
       "      <td>1</td>\n",
       "      <td>2.236216</td>\n",
       "    </tr>\n",
       "  </tbody>\n",
       "</table>\n",
       "</div>"
      ],
      "text/plain": [
       "               Total      Coal  Oil  Gas  Flaring  Per Capita  Antarctica  \\\n",
       "Year                                                                        \n",
       "1750-01-01  9.350528  9.350528  0.0  0.0      0.0    0.011492           0   \n",
       "1751-01-01  9.350528  9.350528  0.0  0.0      0.0    0.011438           0   \n",
       "1752-01-01  9.354192  9.354192  0.0  0.0      0.0    0.011390           0   \n",
       "1753-01-01  9.354192  9.354192  0.0  0.0      0.0    0.011339           0   \n",
       "1754-01-01  9.357856  9.357856  0.0  0.0      0.0    0.011294           0   \n",
       "\n",
       "            Asia  Europe  North America  Oceania  South America  World  \\\n",
       "Year                                                                     \n",
       "1750-01-01     0       0              0        0              0      1   \n",
       "1751-01-01     0       0              0        0              0      1   \n",
       "1752-01-01     0       0              0        0              0      1   \n",
       "1753-01-01     0       0              0        0              0      1   \n",
       "1754-01-01     0       0              0        0              0      1   \n",
       "\n",
       "            Total_log  \n",
       "Year                   \n",
       "1750-01-01   2.235433  \n",
       "1751-01-01   2.235433  \n",
       "1752-01-01   2.235825  \n",
       "1753-01-01   2.235825  \n",
       "1754-01-01   2.236216  "
      ]
     },
     "execution_count": 28,
     "metadata": {},
     "output_type": "execute_result"
    }
   ],
   "source": [
    "import numpy as np\n",
    "df_World['Total_log'] = np.log(df_World.Total)\n",
    "df_World.head()"
   ]
  },
  {
   "cell_type": "code",
   "execution_count": 30,
   "id": "e8e04b72-4311-4969-a849-470c193d87d5",
   "metadata": {},
   "outputs": [],
   "source": [
    "datapath = '../Data'\n",
    "os.makedirs(datapath, exist_ok=True)\n",
    "df_World.to_csv('../df_World.csv')"
   ]
  }
 ],
 "metadata": {
  "kernelspec": {
   "display_name": "Python 3 (ipykernel)",
   "language": "python",
   "name": "python3"
  },
  "language_info": {
   "codemirror_mode": {
    "name": "ipython",
    "version": 3
   },
   "file_extension": ".py",
   "mimetype": "text/x-python",
   "name": "python",
   "nbconvert_exporter": "python",
   "pygments_lexer": "ipython3",
   "version": "3.11.7"
  }
 },
 "nbformat": 4,
 "nbformat_minor": 5
}
