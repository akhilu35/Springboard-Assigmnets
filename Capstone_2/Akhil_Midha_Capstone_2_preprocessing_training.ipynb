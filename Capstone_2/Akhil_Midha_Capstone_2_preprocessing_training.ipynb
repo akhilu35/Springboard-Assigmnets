{
 "cells": [
  {
   "cell_type": "code",
   "execution_count": 1,
   "id": "fa55892d",
   "metadata": {},
   "outputs": [],
   "source": [
    "import pandas as pd\n",
    "import matplotlib.pyplot as plt\n",
    "import seaborn as sns\n",
    "import os\n",
    "import datetime as dt\n",
    "import sklearn"
   ]
  },
  {
   "cell_type": "code",
   "execution_count": 2,
   "id": "d4b3279e",
   "metadata": {},
   "outputs": [],
   "source": [
    "df_CO2 = pd.read_csv('../Data.csv')"
   ]
  },
  {
   "cell_type": "code",
   "execution_count": 4,
   "id": "a2983766",
   "metadata": {
    "scrolled": true
   },
   "outputs": [
    {
     "data": {
      "text/plain": [
       "Unnamed: 0              int64\n",
       "Country                object\n",
       "ISO 3166-1 alpha-3     object\n",
       "Year                   object\n",
       "Total                 float64\n",
       "Coal                  float64\n",
       "Oil                   float64\n",
       "Gas                   float64\n",
       "Cement                float64\n",
       "Flaring               float64\n",
       "Other                 float64\n",
       "Per Capita            float64\n",
       "ISO-alpha3 Code        object\n",
       "Region 1               object\n",
       "Continent              object\n",
       "dtype: object"
      ]
     },
     "execution_count": 4,
     "metadata": {},
     "output_type": "execute_result"
    }
   ],
   "source": [
    "df_CO2.dtypes"
   ]
  },
  {
   "cell_type": "code",
   "execution_count": 5,
   "id": "26b0e8ab",
   "metadata": {},
   "outputs": [],
   "source": [
    "df_CO2['Year']=df_CO2['Year'].astype(str)\n",
    "df_CO2['Year']=[x[:4] for x in df_CO2['Year']]\n",
    "df_CO2['Year']=pd.to_datetime(df_CO2['Year'],format='%Y')"
   ]
  },
  {
   "cell_type": "code",
   "execution_count": 5,
   "id": "417d4521",
   "metadata": {},
   "outputs": [],
   "source": [
    "CO2_data=CO2_data.dropna(thresh=7) #delete rows with 7 NaN (no observable data)"
   ]
  },
  {
   "cell_type": "code",
   "execution_count": 7,
   "id": "a8e63215",
   "metadata": {},
   "outputs": [
    {
     "data": {
      "text/plain": [
       "Unnamed: 0                0\n",
       "Country                   0\n",
       "ISO 3166-1 alpha-3        0\n",
       "Year                      0\n",
       "Total                     0\n",
       "Coal                      0\n",
       "Oil                     105\n",
       "Gas                     132\n",
       "Cement                 4143\n",
       "Flaring                 200\n",
       "Other                 19921\n",
       "Per Capita             4358\n",
       "ISO-alpha3 Code         442\n",
       "Region 1                  0\n",
       "Continent                 0\n",
       "dtype: int64"
      ]
     },
     "execution_count": 7,
     "metadata": {},
     "output_type": "execute_result"
    }
   ],
   "source": [
    "df_CO2.isna().sum()"
   ]
  },
  {
   "cell_type": "code",
   "execution_count": 10,
   "id": "f9a5f156",
   "metadata": {},
   "outputs": [],
   "source": [
    "drop_columns=['ISO 3166-1 alpha-3','Cement','Other','ISO-alpha3 Code']\n",
    "df_CO2 = df_CO2.drop(drop_columns, axis=1)"
   ]
  },
  {
   "cell_type": "code",
   "execution_count": 13,
   "id": "6b403917",
   "metadata": {},
   "outputs": [],
   "source": [
    "df_CO2 = df_CO2.dropna(subset=['Per Capita'])"
   ]
  },
  {
   "cell_type": "code",
   "execution_count": 17,
   "id": "a1f371d1",
   "metadata": {},
   "outputs": [],
   "source": [
    "values = {'Oil':0,'Gas':0,'Flaring':0}\n",
    "df_CO2=df_CO2.fillna(value=values)"
   ]
  },
  {
   "cell_type": "code",
   "execution_count": 18,
   "id": "45fb0b11",
   "metadata": {},
   "outputs": [
    {
     "data": {
      "text/plain": [
       "Unnamed: 0    0\n",
       "Country       0\n",
       "Year          0\n",
       "Total         0\n",
       "Coal          0\n",
       "Oil           0\n",
       "Gas           0\n",
       "Flaring       0\n",
       "Per Capita    0\n",
       "Region 1      0\n",
       "Continent     0\n",
       "dtype: int64"
      ]
     },
     "execution_count": 18,
     "metadata": {},
     "output_type": "execute_result"
    }
   ],
   "source": [
    "df_CO2.isna().sum()"
   ]
  },
  {
   "cell_type": "code",
   "execution_count": 19,
   "id": "9376801b",
   "metadata": {},
   "outputs": [
    {
     "data": {
      "text/plain": [
       "Unnamed: 0             int64\n",
       "Country               object\n",
       "Year          datetime64[ns]\n",
       "Total                float64\n",
       "Coal                 float64\n",
       "Oil                  float64\n",
       "Gas                  float64\n",
       "Flaring              float64\n",
       "Per Capita           float64\n",
       "Region 1              object\n",
       "Continent             object\n",
       "dtype: object"
      ]
     },
     "execution_count": 19,
     "metadata": {},
     "output_type": "execute_result"
    }
   ],
   "source": [
    "df_CO2.dtypes"
   ]
  },
  {
   "cell_type": "code",
   "execution_count": 32,
   "id": "34407005",
   "metadata": {},
   "outputs": [],
   "source": [
    "df_CO2 = df_CO2.drop(['Unnamed: 0','Country','Region 1'], axis=1)"
   ]
  },
  {
   "cell_type": "code",
   "execution_count": 34,
   "id": "90c5ae13",
   "metadata": {},
   "outputs": [
    {
     "data": {
      "text/plain": [
       "Year          datetime64[ns]\n",
       "Total                float64\n",
       "Coal                 float64\n",
       "Oil                  float64\n",
       "Gas                  float64\n",
       "Flaring              float64\n",
       "Per Capita           float64\n",
       "Continent             object\n",
       "dtype: object"
      ]
     },
     "execution_count": 34,
     "metadata": {},
     "output_type": "execute_result"
    }
   ],
   "source": [
    "df_CO2.dtypes"
   ]
  },
  {
   "cell_type": "code",
   "execution_count": 36,
   "id": "d99fd15e",
   "metadata": {},
   "outputs": [
    {
     "data": {
      "text/html": [
       "<div>\n",
       "<style scoped>\n",
       "    .dataframe tbody tr th:only-of-type {\n",
       "        vertical-align: middle;\n",
       "    }\n",
       "\n",
       "    .dataframe tbody tr th {\n",
       "        vertical-align: top;\n",
       "    }\n",
       "\n",
       "    .dataframe thead th {\n",
       "        text-align: right;\n",
       "    }\n",
       "</style>\n",
       "<table border=\"1\" class=\"dataframe\">\n",
       "  <thead>\n",
       "    <tr style=\"text-align: right;\">\n",
       "      <th></th>\n",
       "      <th>Antarctica</th>\n",
       "      <th>Asia</th>\n",
       "      <th>Europe</th>\n",
       "      <th>North America</th>\n",
       "      <th>Oceania</th>\n",
       "      <th>South America</th>\n",
       "      <th>World</th>\n",
       "    </tr>\n",
       "  </thead>\n",
       "  <tbody>\n",
       "    <tr>\n",
       "      <th>1</th>\n",
       "      <td>0</td>\n",
       "      <td>1</td>\n",
       "      <td>0</td>\n",
       "      <td>0</td>\n",
       "      <td>0</td>\n",
       "      <td>0</td>\n",
       "      <td>0</td>\n",
       "    </tr>\n",
       "    <tr>\n",
       "      <th>2</th>\n",
       "      <td>0</td>\n",
       "      <td>1</td>\n",
       "      <td>0</td>\n",
       "      <td>0</td>\n",
       "      <td>0</td>\n",
       "      <td>0</td>\n",
       "      <td>0</td>\n",
       "    </tr>\n",
       "    <tr>\n",
       "      <th>3</th>\n",
       "      <td>0</td>\n",
       "      <td>1</td>\n",
       "      <td>0</td>\n",
       "      <td>0</td>\n",
       "      <td>0</td>\n",
       "      <td>0</td>\n",
       "      <td>0</td>\n",
       "    </tr>\n",
       "    <tr>\n",
       "      <th>4</th>\n",
       "      <td>0</td>\n",
       "      <td>1</td>\n",
       "      <td>0</td>\n",
       "      <td>0</td>\n",
       "      <td>0</td>\n",
       "      <td>0</td>\n",
       "      <td>0</td>\n",
       "    </tr>\n",
       "    <tr>\n",
       "      <th>5</th>\n",
       "      <td>0</td>\n",
       "      <td>1</td>\n",
       "      <td>0</td>\n",
       "      <td>0</td>\n",
       "      <td>0</td>\n",
       "      <td>0</td>\n",
       "      <td>0</td>\n",
       "    </tr>\n",
       "  </tbody>\n",
       "</table>\n",
       "</div>"
      ],
      "text/plain": [
       "   Antarctica  Asia  Europe  North America  Oceania  South America  World\n",
       "1           0     1       0              0        0              0      0\n",
       "2           0     1       0              0        0              0      0\n",
       "3           0     1       0              0        0              0      0\n",
       "4           0     1       0              0        0              0      0\n",
       "5           0     1       0              0        0              0      0"
      ]
     },
     "execution_count": 36,
     "metadata": {},
     "output_type": "execute_result"
    }
   ],
   "source": [
    "cont = pd.get_dummies(df_CO2['Continent'], drop_first=True, dtype=int)\n",
    "cont.head()"
   ]
  },
  {
   "cell_type": "code",
   "execution_count": 39,
   "id": "007fedb6",
   "metadata": {},
   "outputs": [
    {
     "data": {
      "text/html": [
       "<div>\n",
       "<style scoped>\n",
       "    .dataframe tbody tr th:only-of-type {\n",
       "        vertical-align: middle;\n",
       "    }\n",
       "\n",
       "    .dataframe tbody tr th {\n",
       "        vertical-align: top;\n",
       "    }\n",
       "\n",
       "    .dataframe thead th {\n",
       "        text-align: right;\n",
       "    }\n",
       "</style>\n",
       "<table border=\"1\" class=\"dataframe\">\n",
       "  <thead>\n",
       "    <tr style=\"text-align: right;\">\n",
       "      <th></th>\n",
       "      <th>Year</th>\n",
       "      <th>Total</th>\n",
       "      <th>Coal</th>\n",
       "      <th>Oil</th>\n",
       "      <th>Gas</th>\n",
       "      <th>Flaring</th>\n",
       "      <th>Per Capita</th>\n",
       "      <th>Continent</th>\n",
       "      <th>Antarctica</th>\n",
       "      <th>Asia</th>\n",
       "      <th>...</th>\n",
       "      <th>Oceania</th>\n",
       "      <th>South America</th>\n",
       "      <th>World</th>\n",
       "      <th>Antarctica</th>\n",
       "      <th>Asia</th>\n",
       "      <th>Europe</th>\n",
       "      <th>North America</th>\n",
       "      <th>Oceania</th>\n",
       "      <th>South America</th>\n",
       "      <th>World</th>\n",
       "    </tr>\n",
       "  </thead>\n",
       "  <tbody>\n",
       "    <tr>\n",
       "      <th>1</th>\n",
       "      <td>1950-01-01</td>\n",
       "      <td>0.084272</td>\n",
       "      <td>0.021068</td>\n",
       "      <td>0.063204</td>\n",
       "      <td>0.0</td>\n",
       "      <td>0.0</td>\n",
       "      <td>0.011266</td>\n",
       "      <td>Asia</td>\n",
       "      <td>0</td>\n",
       "      <td>1</td>\n",
       "      <td>...</td>\n",
       "      <td>0</td>\n",
       "      <td>0</td>\n",
       "      <td>0</td>\n",
       "      <td>0</td>\n",
       "      <td>1</td>\n",
       "      <td>0</td>\n",
       "      <td>0</td>\n",
       "      <td>0</td>\n",
       "      <td>0</td>\n",
       "      <td>0</td>\n",
       "    </tr>\n",
       "    <tr>\n",
       "      <th>2</th>\n",
       "      <td>1951-01-01</td>\n",
       "      <td>0.091600</td>\n",
       "      <td>0.025648</td>\n",
       "      <td>0.065952</td>\n",
       "      <td>0.0</td>\n",
       "      <td>0.0</td>\n",
       "      <td>0.012098</td>\n",
       "      <td>Asia</td>\n",
       "      <td>0</td>\n",
       "      <td>1</td>\n",
       "      <td>...</td>\n",
       "      <td>0</td>\n",
       "      <td>0</td>\n",
       "      <td>0</td>\n",
       "      <td>0</td>\n",
       "      <td>1</td>\n",
       "      <td>0</td>\n",
       "      <td>0</td>\n",
       "      <td>0</td>\n",
       "      <td>0</td>\n",
       "      <td>0</td>\n",
       "    </tr>\n",
       "    <tr>\n",
       "      <th>3</th>\n",
       "      <td>1952-01-01</td>\n",
       "      <td>0.091600</td>\n",
       "      <td>0.031708</td>\n",
       "      <td>0.059892</td>\n",
       "      <td>0.0</td>\n",
       "      <td>0.0</td>\n",
       "      <td>0.011946</td>\n",
       "      <td>Asia</td>\n",
       "      <td>0</td>\n",
       "      <td>1</td>\n",
       "      <td>...</td>\n",
       "      <td>0</td>\n",
       "      <td>0</td>\n",
       "      <td>0</td>\n",
       "      <td>0</td>\n",
       "      <td>1</td>\n",
       "      <td>0</td>\n",
       "      <td>0</td>\n",
       "      <td>0</td>\n",
       "      <td>0</td>\n",
       "      <td>0</td>\n",
       "    </tr>\n",
       "    <tr>\n",
       "      <th>4</th>\n",
       "      <td>1953-01-01</td>\n",
       "      <td>0.106256</td>\n",
       "      <td>0.037949</td>\n",
       "      <td>0.068307</td>\n",
       "      <td>0.0</td>\n",
       "      <td>0.0</td>\n",
       "      <td>0.013685</td>\n",
       "      <td>Asia</td>\n",
       "      <td>0</td>\n",
       "      <td>1</td>\n",
       "      <td>...</td>\n",
       "      <td>0</td>\n",
       "      <td>0</td>\n",
       "      <td>0</td>\n",
       "      <td>0</td>\n",
       "      <td>1</td>\n",
       "      <td>0</td>\n",
       "      <td>0</td>\n",
       "      <td>0</td>\n",
       "      <td>0</td>\n",
       "      <td>0</td>\n",
       "    </tr>\n",
       "    <tr>\n",
       "      <th>5</th>\n",
       "      <td>1954-01-01</td>\n",
       "      <td>0.106256</td>\n",
       "      <td>0.042502</td>\n",
       "      <td>0.063754</td>\n",
       "      <td>0.0</td>\n",
       "      <td>0.0</td>\n",
       "      <td>0.013511</td>\n",
       "      <td>Asia</td>\n",
       "      <td>0</td>\n",
       "      <td>1</td>\n",
       "      <td>...</td>\n",
       "      <td>0</td>\n",
       "      <td>0</td>\n",
       "      <td>0</td>\n",
       "      <td>0</td>\n",
       "      <td>1</td>\n",
       "      <td>0</td>\n",
       "      <td>0</td>\n",
       "      <td>0</td>\n",
       "      <td>0</td>\n",
       "      <td>0</td>\n",
       "    </tr>\n",
       "  </tbody>\n",
       "</table>\n",
       "<p>5 rows × 22 columns</p>\n",
       "</div>"
      ],
      "text/plain": [
       "        Year     Total      Coal       Oil  Gas  Flaring  Per Capita  \\\n",
       "1 1950-01-01  0.084272  0.021068  0.063204  0.0      0.0    0.011266   \n",
       "2 1951-01-01  0.091600  0.025648  0.065952  0.0      0.0    0.012098   \n",
       "3 1952-01-01  0.091600  0.031708  0.059892  0.0      0.0    0.011946   \n",
       "4 1953-01-01  0.106256  0.037949  0.068307  0.0      0.0    0.013685   \n",
       "5 1954-01-01  0.106256  0.042502  0.063754  0.0      0.0    0.013511   \n",
       "\n",
       "  Continent  Antarctica  Asia  ...  Oceania  South America  World  Antarctica  \\\n",
       "1      Asia           0     1  ...        0              0      0           0   \n",
       "2      Asia           0     1  ...        0              0      0           0   \n",
       "3      Asia           0     1  ...        0              0      0           0   \n",
       "4      Asia           0     1  ...        0              0      0           0   \n",
       "5      Asia           0     1  ...        0              0      0           0   \n",
       "\n",
       "   Asia  Europe  North America  Oceania  South America  World  \n",
       "1     1       0              0        0              0      0  \n",
       "2     1       0              0        0              0      0  \n",
       "3     1       0              0        0              0      0  \n",
       "4     1       0              0        0              0      0  \n",
       "5     1       0              0        0              0      0  \n",
       "\n",
       "[5 rows x 22 columns]"
      ]
     },
     "execution_count": 39,
     "metadata": {},
     "output_type": "execute_result"
    }
   ],
   "source": [
    "df_CO2 = pd.concat([df_CO2,cont],axis=1)"
   ]
  },
  {
   "cell_type": "code",
   "execution_count": 41,
   "id": "1a4faf24",
   "metadata": {},
   "outputs": [],
   "source": [
    "df_CO2 = df_CO2.drop(['Continent'],axis=1)"
   ]
  },
  {
   "cell_type": "code",
   "execution_count": 44,
   "id": "0c9eb4f5",
   "metadata": {},
   "outputs": [],
   "source": [
    "from sklearn.preprocessing import StandardScaler\n",
    "from sklearn.model_selection import train_test_split"
   ]
  },
  {
   "cell_type": "code",
   "execution_count": 63,
   "id": "cd1fb5ae",
   "metadata": {},
   "outputs": [],
   "source": [
    "df = df_CO2.drop(['Year'],axis=1)"
   ]
  },
  {
   "cell_type": "code",
   "execution_count": 68,
   "id": "46e38f12",
   "metadata": {},
   "outputs": [],
   "source": [
    "columns = df.columns"
   ]
  },
  {
   "cell_type": "code",
   "execution_count": 64,
   "id": "20eed98b",
   "metadata": {},
   "outputs": [],
   "source": [
    "scaler = StandardScaler()\n",
    "df_scaled = scaler.fit_transform(df)"
   ]
  },
  {
   "cell_type": "code",
   "execution_count": 69,
   "id": "35592e49",
   "metadata": {},
   "outputs": [],
   "source": [
    "df_scaled = pd.DataFrame(df_scaled, columns=columns)"
   ]
  },
  {
   "cell_type": "code",
   "execution_count": 70,
   "id": "733ae347",
   "metadata": {},
   "outputs": [],
   "source": [
    "X = df_scaled.drop(['Total'],axis=1)\n",
    "y = df_scaled['Total']"
   ]
  },
  {
   "cell_type": "code",
   "execution_count": 71,
   "id": "1f027cdf",
   "metadata": {},
   "outputs": [],
   "source": [
    "X_train, X_test, y_train, y_test = train_test_split(X,y)"
   ]
  }
 ],
 "metadata": {
  "kernelspec": {
   "display_name": "Python 3 (ipykernel)",
   "language": "python",
   "name": "python3"
  },
  "language_info": {
   "codemirror_mode": {
    "name": "ipython",
    "version": 3
   },
   "file_extension": ".py",
   "mimetype": "text/x-python",
   "name": "python",
   "nbconvert_exporter": "python",
   "pygments_lexer": "ipython3",
   "version": "3.11.5"
  }
 },
 "nbformat": 4,
 "nbformat_minor": 5
}
