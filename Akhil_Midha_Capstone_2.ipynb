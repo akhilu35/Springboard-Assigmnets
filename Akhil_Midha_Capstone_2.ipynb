{
 "cells": [
  {
   "cell_type": "code",
   "execution_count": 197,
   "id": "fa55892d",
   "metadata": {},
   "outputs": [],
   "source": [
    "import pandas as pd\n",
    "import matplotlib.pyplot as plt\n",
    "import seaborn as sns\n",
    "import os\n",
    "import datetime as dt"
   ]
  },
  {
   "cell_type": "code",
   "execution_count": 3,
   "id": "d4b3279e",
   "metadata": {},
   "outputs": [],
   "source": [
    "CO2_data = pd.read_csv('../Raw_data/GCB2022v27_MtCO2_flat.csv') #load data"
   ]
  },
  {
   "cell_type": "code",
   "execution_count": 37,
   "id": "a2983766",
   "metadata": {
    "scrolled": true
   },
   "outputs": [
    {
     "data": {
      "text/html": [
       "<div>\n",
       "<style scoped>\n",
       "    .dataframe tbody tr th:only-of-type {\n",
       "        vertical-align: middle;\n",
       "    }\n",
       "\n",
       "    .dataframe tbody tr th {\n",
       "        vertical-align: top;\n",
       "    }\n",
       "\n",
       "    .dataframe thead th {\n",
       "        text-align: right;\n",
       "    }\n",
       "</style>\n",
       "<table border=\"1\" class=\"dataframe\">\n",
       "  <thead>\n",
       "    <tr style=\"text-align: right;\">\n",
       "      <th></th>\n",
       "      <th>Country</th>\n",
       "      <th>ISO 3166-1 alpha-3</th>\n",
       "      <th>Year</th>\n",
       "      <th>Total</th>\n",
       "      <th>Coal</th>\n",
       "      <th>Oil</th>\n",
       "      <th>Gas</th>\n",
       "      <th>Cement</th>\n",
       "      <th>Flaring</th>\n",
       "      <th>Other</th>\n",
       "      <th>Per Capita</th>\n",
       "      <th>sum_na</th>\n",
       "    </tr>\n",
       "  </thead>\n",
       "  <tbody>\n",
       "    <tr>\n",
       "      <th>0</th>\n",
       "      <td>Afghanistan</td>\n",
       "      <td>AFG</td>\n",
       "      <td>1750</td>\n",
       "      <td>0.0</td>\n",
       "      <td>NaN</td>\n",
       "      <td>NaN</td>\n",
       "      <td>NaN</td>\n",
       "      <td>NaN</td>\n",
       "      <td>NaN</td>\n",
       "      <td>NaN</td>\n",
       "      <td>NaN</td>\n",
       "      <td>7</td>\n",
       "    </tr>\n",
       "    <tr>\n",
       "      <th>1</th>\n",
       "      <td>Afghanistan</td>\n",
       "      <td>AFG</td>\n",
       "      <td>1751</td>\n",
       "      <td>0.0</td>\n",
       "      <td>NaN</td>\n",
       "      <td>NaN</td>\n",
       "      <td>NaN</td>\n",
       "      <td>NaN</td>\n",
       "      <td>NaN</td>\n",
       "      <td>NaN</td>\n",
       "      <td>NaN</td>\n",
       "      <td>7</td>\n",
       "    </tr>\n",
       "    <tr>\n",
       "      <th>2</th>\n",
       "      <td>Afghanistan</td>\n",
       "      <td>AFG</td>\n",
       "      <td>1752</td>\n",
       "      <td>0.0</td>\n",
       "      <td>NaN</td>\n",
       "      <td>NaN</td>\n",
       "      <td>NaN</td>\n",
       "      <td>NaN</td>\n",
       "      <td>NaN</td>\n",
       "      <td>NaN</td>\n",
       "      <td>NaN</td>\n",
       "      <td>7</td>\n",
       "    </tr>\n",
       "    <tr>\n",
       "      <th>3</th>\n",
       "      <td>Afghanistan</td>\n",
       "      <td>AFG</td>\n",
       "      <td>1753</td>\n",
       "      <td>0.0</td>\n",
       "      <td>NaN</td>\n",
       "      <td>NaN</td>\n",
       "      <td>NaN</td>\n",
       "      <td>NaN</td>\n",
       "      <td>NaN</td>\n",
       "      <td>NaN</td>\n",
       "      <td>NaN</td>\n",
       "      <td>7</td>\n",
       "    </tr>\n",
       "    <tr>\n",
       "      <th>4</th>\n",
       "      <td>Afghanistan</td>\n",
       "      <td>AFG</td>\n",
       "      <td>1754</td>\n",
       "      <td>0.0</td>\n",
       "      <td>NaN</td>\n",
       "      <td>NaN</td>\n",
       "      <td>NaN</td>\n",
       "      <td>NaN</td>\n",
       "      <td>NaN</td>\n",
       "      <td>NaN</td>\n",
       "      <td>NaN</td>\n",
       "      <td>7</td>\n",
       "    </tr>\n",
       "  </tbody>\n",
       "</table>\n",
       "</div>"
      ],
      "text/plain": [
       "       Country ISO 3166-1 alpha-3  Year Total Coal  Oil  Gas Cement Flaring  \\\n",
       "0  Afghanistan                AFG  1750   0.0  NaN  NaN  NaN    NaN     NaN   \n",
       "1  Afghanistan                AFG  1751   0.0  NaN  NaN  NaN    NaN     NaN   \n",
       "2  Afghanistan                AFG  1752   0.0  NaN  NaN  NaN    NaN     NaN   \n",
       "3  Afghanistan                AFG  1753   0.0  NaN  NaN  NaN    NaN     NaN   \n",
       "4  Afghanistan                AFG  1754   0.0  NaN  NaN  NaN    NaN     NaN   \n",
       "\n",
       "  Other Per Capita  sum_na  \n",
       "0   NaN        NaN       7  \n",
       "1   NaN        NaN       7  \n",
       "2   NaN        NaN       7  \n",
       "3   NaN        NaN       7  \n",
       "4   NaN        NaN       7  "
      ]
     },
     "execution_count": 37,
     "metadata": {},
     "output_type": "execute_result"
    }
   ],
   "source": [
    "CO2_data.head()"
   ]
  },
  {
   "cell_type": "code",
   "execution_count": 36,
   "id": "26b0e8ab",
   "metadata": {},
   "outputs": [],
   "source": [
    "CO2_data['sum_na']=CO2_data.isna().sum(True)"
   ]
  },
  {
   "cell_type": "code",
   "execution_count": 44,
   "id": "417d4521",
   "metadata": {},
   "outputs": [],
   "source": [
    "CO2_data=CO2_data.dropna(thresh=7) #delete rows with 7 NaN (no observable data)"
   ]
  },
  {
   "cell_type": "code",
   "execution_count": 68,
   "id": "a8e63215",
   "metadata": {},
   "outputs": [],
   "source": [
    "countries_url = 'https://statisticstimes.com/geography/countries-by-continents.php' #loaded country data with continents\n",
    "countries = pd.read_html(countries_url)"
   ]
  },
  {
   "cell_type": "code",
   "execution_count": 74,
   "id": "f9a5f156",
   "metadata": {},
   "outputs": [],
   "source": [
    "countries=countries[2]"
   ]
  },
  {
   "cell_type": "code",
   "execution_count": 81,
   "id": "6b403917",
   "metadata": {},
   "outputs": [
    {
     "data": {
      "text/plain": [
       "Index(['No', 'Country or Area', 'ISO-alpha3 Code', 'M49 Code', 'Region 1',\n",
       "       'Region 2', 'Continent'],\n",
       "      dtype='object')"
      ]
     },
     "execution_count": 81,
     "metadata": {},
     "output_type": "execute_result"
    }
   ],
   "source": [
    "countries.columns"
   ]
  },
  {
   "cell_type": "code",
   "execution_count": 84,
   "id": "a1f371d1",
   "metadata": {},
   "outputs": [],
   "source": [
    "countries = countries.drop(columns=['No','M49 Code','Region 2'])\n",
    "countries=countries.rename(columns={'Country or Area':'Country'})\n",
    "countries=countries.set_index('Country')"
   ]
  },
  {
   "cell_type": "code",
   "execution_count": 114,
   "id": "d34fd381",
   "metadata": {},
   "outputs": [
    {
     "data": {
      "text/html": [
       "<div>\n",
       "<style scoped>\n",
       "    .dataframe tbody tr th:only-of-type {\n",
       "        vertical-align: middle;\n",
       "    }\n",
       "\n",
       "    .dataframe tbody tr th {\n",
       "        vertical-align: top;\n",
       "    }\n",
       "\n",
       "    .dataframe thead th {\n",
       "        text-align: right;\n",
       "    }\n",
       "</style>\n",
       "<table border=\"1\" class=\"dataframe\">\n",
       "  <thead>\n",
       "    <tr style=\"text-align: right;\">\n",
       "      <th></th>\n",
       "      <th>Country</th>\n",
       "      <th>ISO 3166-1 alpha-3</th>\n",
       "      <th>Year</th>\n",
       "      <th>Total</th>\n",
       "      <th>Coal</th>\n",
       "      <th>Oil</th>\n",
       "      <th>Gas</th>\n",
       "      <th>Cement</th>\n",
       "      <th>Flaring</th>\n",
       "      <th>Other</th>\n",
       "      <th>Per Capita</th>\n",
       "      <th>sum_na</th>\n",
       "      <th>ISO-alpha3 Code</th>\n",
       "      <th>Region 1</th>\n",
       "      <th>Continent</th>\n",
       "    </tr>\n",
       "  </thead>\n",
       "  <tbody>\n",
       "    <tr>\n",
       "      <th>199</th>\n",
       "      <td>Afghanistan</td>\n",
       "      <td>AFG</td>\n",
       "      <td>1949</td>\n",
       "      <td>0.014656</td>\n",
       "      <td>0.014656</td>\n",
       "      <td>0.0</td>\n",
       "      <td>0.0</td>\n",
       "      <td>0.0</td>\n",
       "      <td>0.0</td>\n",
       "      <td>NaN</td>\n",
       "      <td>NaN</td>\n",
       "      <td>2</td>\n",
       "      <td>AFG</td>\n",
       "      <td>Southern Asia</td>\n",
       "      <td>Asia</td>\n",
       "    </tr>\n",
       "    <tr>\n",
       "      <th>200</th>\n",
       "      <td>Afghanistan</td>\n",
       "      <td>AFG</td>\n",
       "      <td>1950</td>\n",
       "      <td>0.084272</td>\n",
       "      <td>0.021068</td>\n",
       "      <td>0.063204</td>\n",
       "      <td>0.0</td>\n",
       "      <td>0.0</td>\n",
       "      <td>0.0</td>\n",
       "      <td>NaN</td>\n",
       "      <td>0.011266</td>\n",
       "      <td>1</td>\n",
       "      <td>AFG</td>\n",
       "      <td>Southern Asia</td>\n",
       "      <td>Asia</td>\n",
       "    </tr>\n",
       "    <tr>\n",
       "      <th>201</th>\n",
       "      <td>Afghanistan</td>\n",
       "      <td>AFG</td>\n",
       "      <td>1951</td>\n",
       "      <td>0.0916</td>\n",
       "      <td>0.025648</td>\n",
       "      <td>0.065952</td>\n",
       "      <td>0.0</td>\n",
       "      <td>0.0</td>\n",
       "      <td>0.0</td>\n",
       "      <td>NaN</td>\n",
       "      <td>0.012098</td>\n",
       "      <td>1</td>\n",
       "      <td>AFG</td>\n",
       "      <td>Southern Asia</td>\n",
       "      <td>Asia</td>\n",
       "    </tr>\n",
       "    <tr>\n",
       "      <th>202</th>\n",
       "      <td>Afghanistan</td>\n",
       "      <td>AFG</td>\n",
       "      <td>1952</td>\n",
       "      <td>0.0916</td>\n",
       "      <td>0.031708</td>\n",
       "      <td>0.059892</td>\n",
       "      <td>0.0</td>\n",
       "      <td>0.0</td>\n",
       "      <td>0.0</td>\n",
       "      <td>NaN</td>\n",
       "      <td>0.011946</td>\n",
       "      <td>1</td>\n",
       "      <td>AFG</td>\n",
       "      <td>Southern Asia</td>\n",
       "      <td>Asia</td>\n",
       "    </tr>\n",
       "    <tr>\n",
       "      <th>203</th>\n",
       "      <td>Afghanistan</td>\n",
       "      <td>AFG</td>\n",
       "      <td>1953</td>\n",
       "      <td>0.106256</td>\n",
       "      <td>0.037949</td>\n",
       "      <td>0.068307</td>\n",
       "      <td>0.0</td>\n",
       "      <td>0.0</td>\n",
       "      <td>0.0</td>\n",
       "      <td>NaN</td>\n",
       "      <td>0.013685</td>\n",
       "      <td>1</td>\n",
       "      <td>AFG</td>\n",
       "      <td>Southern Asia</td>\n",
       "      <td>Asia</td>\n",
       "    </tr>\n",
       "  </tbody>\n",
       "</table>\n",
       "</div>"
      ],
      "text/plain": [
       "         Country ISO 3166-1 alpha-3  Year     Total      Coal       Oil  Gas  \\\n",
       "199  Afghanistan                AFG  1949  0.014656  0.014656       0.0  0.0   \n",
       "200  Afghanistan                AFG  1950  0.084272  0.021068  0.063204  0.0   \n",
       "201  Afghanistan                AFG  1951    0.0916  0.025648  0.065952  0.0   \n",
       "202  Afghanistan                AFG  1952    0.0916  0.031708  0.059892  0.0   \n",
       "203  Afghanistan                AFG  1953  0.106256  0.037949  0.068307  0.0   \n",
       "\n",
       "    Cement Flaring Other Per Capita  sum_na ISO-alpha3 Code       Region 1  \\\n",
       "199    0.0     0.0   NaN        NaN       2             AFG  Southern Asia   \n",
       "200    0.0     0.0   NaN   0.011266       1             AFG  Southern Asia   \n",
       "201    0.0     0.0   NaN   0.012098       1             AFG  Southern Asia   \n",
       "202    0.0     0.0   NaN   0.011946       1             AFG  Southern Asia   \n",
       "203    0.0     0.0   NaN   0.013685       1             AFG  Southern Asia   \n",
       "\n",
       "    Continent  \n",
       "199      Asia  \n",
       "200      Asia  \n",
       "201      Asia  \n",
       "202      Asia  \n",
       "203      Asia  "
      ]
     },
     "execution_count": 114,
     "metadata": {},
     "output_type": "execute_result"
    }
   ],
   "source": [
    "df.head()"
   ]
  },
  {
   "cell_type": "code",
   "execution_count": 124,
   "id": "45fb0b11",
   "metadata": {},
   "outputs": [
    {
     "data": {
      "text/plain": [
       "Country               string[python]\n",
       "ISO 3166-1 alpha-3    string[python]\n",
       "Year                           Int64\n",
       "Total                        Float64\n",
       "Coal                         Float64\n",
       "Oil                          Float64\n",
       "Gas                          Float64\n",
       "Cement                       Float64\n",
       "Flaring                      Float64\n",
       "Other                        Float64\n",
       "Per Capita                   Float64\n",
       "sum_na                         Int64\n",
       "ISO-alpha3 Code       string[python]\n",
       "Region 1              string[python]\n",
       "Continent             string[python]\n",
       "dtype: object"
      ]
     },
     "execution_count": 124,
     "metadata": {},
     "output_type": "execute_result"
    }
   ],
   "source": [
    "df1 = pd.merge(CO2_data, countries, how='left', left_on=['ISO 3166-1 alpha-3'], right_on=['ISO-alpha3 Code']) # merged data frames on iso code"
   ]
  },
  {
   "cell_type": "code",
   "execution_count": 169,
   "id": "9376801b",
   "metadata": {},
   "outputs": [],
   "source": [
    "# fixed a few missing observations\n",
    "df1.loc[df1['Country']=='Panama Canal Zone',['Region 1','Continent']]=['Central America','North America']\n",
    "df1.loc[df1['Country']=='Taiwan',['Region 1','Continent']]=['Eastern Asia','Asia']\n",
    "df1.loc[df1['Country']=='Kosovo',['Region 1','Continent']]=['Southern Europe','Europe']\n",
    "df1.loc[df1['Country']=='Global',['Region 1','Continent']]=['World','World']\n"
   ]
  },
  {
   "cell_type": "code",
   "execution_count": 179,
   "id": "34407005",
   "metadata": {},
   "outputs": [
    {
     "data": {
      "text/plain": [
       "<bound method Series.unique of 6904     French Equatorial Africa\n",
       "6905     French Equatorial Africa\n",
       "6906     French Equatorial Africa\n",
       "6907     French Equatorial Africa\n",
       "6908     French Equatorial Africa\n",
       "                   ...           \n",
       "16259              Ryukyu Islands\n",
       "16260              Ryukyu Islands\n",
       "16261              Ryukyu Islands\n",
       "16262              Ryukyu Islands\n",
       "16263              Ryukyu Islands\n",
       "Name: Country, Length: 84, dtype: object>"
      ]
     },
     "execution_count": 179,
     "metadata": {},
     "output_type": "execute_result"
    }
   ],
   "source": [
    "missing = df1[df1['ISO 3166-1 alpha-3'].isna()]\n",
    "missing.Country.unique"
   ]
  },
  {
   "cell_type": "code",
   "execution_count": 180,
   "id": "90c5ae13",
   "metadata": {},
   "outputs": [
    {
     "data": {
      "text/plain": [
       "Country               string[python]\n",
       "ISO 3166-1 alpha-3    string[python]\n",
       "Year                           Int64\n",
       "Total                        Float64\n",
       "Coal                         Float64\n",
       "Oil                          Float64\n",
       "Gas                          Float64\n",
       "Cement                       Float64\n",
       "Flaring                      Float64\n",
       "Other                        Float64\n",
       "Per Capita                   Float64\n",
       "sum_na                         Int64\n",
       "ISO-alpha3 Code       string[python]\n",
       "Region 1              string[python]\n",
       "Continent             string[python]\n",
       "dtype: object"
      ]
     },
     "execution_count": 180,
     "metadata": {},
     "output_type": "execute_result"
    }
   ],
   "source": [
    "df1 = df1.convert_dtypes()\n",
    "df1.dtypes"
   ]
  },
  {
   "cell_type": "code",
   "execution_count": 185,
   "id": "d99fd15e",
   "metadata": {},
   "outputs": [],
   "source": [
    "df1['Year']=pd.to_datetime(df1['Year'],format='%Y')"
   ]
  },
  {
   "cell_type": "code",
   "execution_count": 188,
   "id": "007fedb6",
   "metadata": {},
   "outputs": [],
   "source": [
    "df1=df1.drop(missing.index,axis=0)"
   ]
  },
  {
   "cell_type": "code",
   "execution_count": 194,
   "id": "1a4faf24",
   "metadata": {},
   "outputs": [],
   "source": [
    "niltotal=df1[df1['Total']==0]\n",
    "df1=df1.drop(niltotal.index,axis=0)\n",
    "df1=df1.drop(columns=['sum_na'])"
   ]
  },
  {
   "cell_type": "code",
   "execution_count": 193,
   "id": "0c9eb4f5",
   "metadata": {},
   "outputs": [
    {
     "data": {
      "text/plain": [
       "<Axes: xlabel='Year', ylabel='Total'>"
      ]
     },
     "execution_count": 193,
     "metadata": {},
     "output_type": "execute_result"
    },
    {
     "data": {
      "image/png": "[encoded data removed]",
      "text/plain": [
       "<Figure size 640x480 with 1 Axes>"
      ]
     },
     "metadata": {},
     "output_type": "display_data"
    }
   ],
   "source": [
    "df1.plot(x='Year',y='Total',kind='scatter')"
   ]
  },
  {
   "cell_type": "code",
   "execution_count": 199,
   "id": "018ddb5d",
   "metadata": {},
   "outputs": [],
   "source": [
    "datapath = '../Data'\n",
    "os.makedirs(datapath, exist_ok=True)\n",
    "df1.to_csv('../Data.csv')"
   ]
  }
 ],
 "metadata": {
  "kernelspec": {
   "display_name": "Python 3 (ipykernel)",
   "language": "python",
   "name": "python3"
  },
  "language_info": {
   "codemirror_mode": {
    "name": "ipython",
    "version": 3
   },
   "file_extension": ".py",
   "mimetype": "text/x-python",
   "name": "python",
   "nbconvert_exporter": "python",
   "pygments_lexer": "ipython3",
   "version": "3.11.5"
  }
 },
 "nbformat": 4,
 "nbformat_minor": 5
}
